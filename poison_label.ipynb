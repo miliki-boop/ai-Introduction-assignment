{
 "cells": [
  {
   "cell_type": "code",
   "execution_count": 1,
   "metadata": {},
   "outputs": [
    {
     "name": "stdout",
     "output_type": "stream",
     "text": [
      "解析文件： ./Mnist/Mnist/train-images.idx3-ubyte\n",
      "魔数：2051，图片数：60000\n",
      "28 28\n",
      "解析文件： ./Mnist/Mnist/test-images.idx3-ubyte\n",
      "魔数：2051，图片数：10000\n",
      "28 28\n",
      "解析文件： ./Mnist/Mnist/train-labels.idx1-ubyte\n",
      "魔数：2049，标签数：60000\n",
      "解析文件： ./Mnist/Mnist/test-labels.idx1-ubyte\n",
      "魔数：2049，标签数：10000\n",
      "[5 0 4 ... 5 6 8]\n"
     ]
    }
   ],
   "source": [
    "import numpy as np\n",
    "import Parse_data\n",
    "import poison\n",
    "\n",
    "test_images = './Mnist/Mnist/test-images.idx3-ubyte'\n",
    "test_labels = './Mnist/Mnist/test-labels.idx1-ubyte'\n",
    "train_images = './Mnist/Mnist/train-images.idx3-ubyte'\n",
    "train_labels = './Mnist/Mnist/train-labels.idx1-ubyte'\n",
    "\n",
    "x_train = Parse_data.decode_idx3_ubyte(train_images)\n",
    "x_test =  Parse_data.decode_idx3_ubyte(test_images)\n",
    "y_train = Parse_data.decode_idx1_ubyte(train_labels)\n",
    "y_test =  Parse_data.decode_idx1_ubyte(test_labels)\n",
    "\n",
    "x_test = x_test.reshape(10000, 28*28)\n",
    "x_train = x_train.reshape(60000, 28*28)\n",
    "y_train = np.array(y_train)\n",
    "y_test = np.array(y_test)\n",
    "print(y_train)\n"
   ]
  },
  {
   "cell_type": "code",
   "execution_count": 2,
   "metadata": {},
   "outputs": [
    {
     "name": "stdout",
     "output_type": "stream",
     "text": [
      "(60000,)\n",
      "[24683 21002 16732 ... 59786 52775 58268]\n",
      "训练完成\n",
      "8116\n",
      "(60000,)\n",
      "[ 9100 29983 50343 ... 44359  4785 19412]\n",
      "训练完成\n",
      "7332\n",
      "(60000,)\n",
      "[13749 38327 24940 ... 49550 15432 41571]\n",
      "训练完成\n",
      "6560\n",
      "(60000,)\n",
      "[28541 48136 51785 ... 35849 14310 41854]\n",
      "训练完成\n",
      "5087\n",
      "(60000,)\n",
      "[32147 56928  9862 ... 48939 13181 44035]\n",
      "训练完成\n",
      "3920\n",
      "(60000,)\n",
      "[30678 34219 20630 ... 28554 38899 21844]\n",
      "训练完成\n",
      "2906\n",
      "(60000,)\n",
      "[15162 35452 25558 ... 13874 17179 50623]\n",
      "训练完成\n",
      "1938\n",
      "(60000,)\n",
      "[19571 14430 42511 ... 39649 17724 32541]\n",
      "训练完成\n",
      "1336\n",
      "(60000,)\n",
      "[51436  8989 38640 ... 22780 30461 18003]\n",
      "训练完成\n",
      "1079\n",
      "(60000,)\n",
      "[28589 49400  8992 ... 19600  3990 10982]\n",
      "训练完成\n",
      "839\n"
     ]
    },
    {
     "data": {
      "image/png": "[encoded data removed]",
      "text/plain": [
       "<Figure size 432x288 with 1 Axes>"
      ]
     },
     "metadata": {
      "needs_background": "light"
     },
     "output_type": "display_data"
    }
   ],
   "source": [
    "import matplotlib.pyplot as plt\n",
    "\n",
    "from classifier import DecisionTree, accuracy_score\n",
    "\n",
    "\n",
    "# 构建决策树分类器\n",
    "tree = DecisionTree(max_depth=20, min_samples_split=2, criterion='gini')\n",
    "\n",
    "poison_range = range(5000, 50001, 5000)  # 投毒数量范围\n",
    "accuracy_scores = []  # 保存准确率\n",
    "\n",
    "for poison_num in poison_range:\n",
    "    # 生成投毒样本\n",
    "    y_train_poison = poison.poison(y_train, poison_num)\n",
    "\n",
    "    # 训练决策树\n",
    "    tree.fit(x_train, y_train_poison)\n",
    "\n",
    "    # 在测试集上进行预测\n",
    "    y_pred = tree.predict(x_test)\n",
    "\n",
    "    # 计算准确率\n",
    "    acc = accuracy_score(y_test, y_pred)\n",
    "    accuracy_scores.append(acc)\n",
    "\n",
    "# 绘制准确率变化图\n",
    "plt.plot(poison_range, accuracy_scores, marker='o')\n",
    "plt.xlabel('Poisoning Amount')\n",
    "plt.ylabel('Accuracy')\n",
    "plt.title('Accuracy vs Poisoning Amount')\n",
    "plt.grid(True)\n",
    "plt.show()"
   ]
  }
 ],
 "metadata": {
  "kernelspec": {
   "display_name": "Python 3",
   "language": "python",
   "name": "python3"
  },
  "language_info": {
   "codemirror_mode": {
    "name": "ipython",
    "version": 3
   },
   "file_extension": ".py",
   "mimetype": "text/x-python",
   "name": "python",
   "nbconvert_exporter": "python",
   "pygments_lexer": "ipython3",
   "version": "3.10.2"
  },
  "orig_nbformat": 4
 },
 "nbformat": 4,
 "nbformat_minor": 2
}
