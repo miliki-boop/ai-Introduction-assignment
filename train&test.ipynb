{
 "cells": [
  {
   "cell_type": "code",
   "execution_count": 1,
   "metadata": {},
   "outputs": [
    {
     "name": "stdout",
     "output_type": "stream",
     "text": [
      "解析文件： ./Mnist/Mnist/train-images.idx3-ubyte\n",
      "魔数：2051，图片数：60000\n",
      "28 28\n",
      "解析文件： ./Mnist/Mnist/test-images.idx3-ubyte\n",
      "魔数：2051，图片数：10000\n",
      "28 28\n",
      "解析文件： ./Mnist/Mnist/train-labels.idx1-ubyte\n",
      "魔数：2049，标签数：60000\n",
      "解析文件： ./Mnist/Mnist/test-labels.idx1-ubyte\n",
      "魔数：2049，标签数：10000\n"
     ]
    }
   ],
   "source": [
    "import numpy as np\n",
    "import Parse_data\n",
    "\n",
    "test_images = './Mnist/Mnist/test-images.idx3-ubyte'\n",
    "test_labels = './Mnist/Mnist/test-labels.idx1-ubyte'\n",
    "train_images = './Mnist/Mnist/train-images.idx3-ubyte'\n",
    "train_labels = './Mnist/Mnist/train-labels.idx1-ubyte'\n",
    "\n",
    "x_train = Parse_data.decode_idx3_ubyte(train_images)\n",
    "x_test =  Parse_data.decode_idx3_ubyte(test_images)\n",
    "y_train = Parse_data.decode_idx1_ubyte(train_labels)\n",
    "y_test =  Parse_data.decode_idx1_ubyte(test_labels)\n",
    "\n",
    "x_test = x_test.reshape(10000, 28*28)\n",
    "x_train = x_train.reshape(60000, 28*28)\n",
    "y_train = np.array(y_train)\n",
    "y_test = np.array(y_test)\n"
   ]
  },
  {
   "cell_type": "code",
   "execution_count": 2,
   "metadata": {},
   "outputs": [
    {
     "name": "stdout",
     "output_type": "stream",
     "text": [
      "训练完成\n"
     ]
    }
   ],
   "source": [
    "from classifier import DecisionTree,accuracy_score\n",
    "# 构建决策树分类器\n",
    "tree = DecisionTree(max_depth=20, min_samples_split=2, criterion='gini')\n",
    "\n",
    "# 训练决策树\n",
    "tree.fit(x_train, y_train)"
   ]
  },
  {
   "cell_type": "code",
   "execution_count": 3,
   "metadata": {},
   "outputs": [
    {
     "name": "stdout",
     "output_type": "stream",
     "text": [
      "8484\n",
      "Accuracy: 0.848\n"
     ]
    }
   ],
   "source": [
    "\n",
    "y_pred = tree.predict(x_test)\n",
    "acc = accuracy_score(y_test, y_pred)\n",
    "print(f\"Accuracy: {acc:.3f}\")\n"
   ]
  }
 ],
 "metadata": {
  "kernelspec": {
   "display_name": "Python 3",
   "language": "python",
   "name": "python3"
  },
  "language_info": {
   "codemirror_mode": {
    "name": "ipython",
    "version": 3
   },
   "file_extension": ".py",
   "mimetype": "text/x-python",
   "name": "python",
   "nbconvert_exporter": "python",
   "pygments_lexer": "ipython3",
   "version": "3.10.2"
  },
  "orig_nbformat": 4
 },
 "nbformat": 4,
 "nbformat_minor": 2
}
