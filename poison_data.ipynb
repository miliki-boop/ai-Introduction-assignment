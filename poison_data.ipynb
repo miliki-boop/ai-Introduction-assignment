{
 "cells": [
  {
   "cell_type": "code",
   "execution_count": 1,
   "metadata": {},
   "outputs": [
    {
     "name": "stdout",
     "output_type": "stream",
     "text": [
      "解析文件： ./Mnist/Mnist/test-images.idx3-ubyte\n",
      "魔数：2051，图片数：10000\n",
      "28 28\n",
      "解析文件： ./Mnist/Mnist/test-labels.idx1-ubyte\n",
      "魔数：2049，标签数：10000\n",
      "解析文件： ./Mnist/Mnist/train-images.idx3-ubyte\n",
      "魔数：2051，图片数：60000\n",
      "28 28\n",
      "解析文件： ./Mnist/Mnist/train-labels.idx1-ubyte\n",
      "魔数：2049，标签数：60000\n",
      "训练完成\n",
      "8155\n",
      "训练完成\n",
      "8145\n",
      "训练完成\n",
      "8050\n",
      "训练完成\n",
      "7730\n",
      "训练完成\n",
      "7570\n",
      "训练完成\n",
      "7350\n",
      "训练完成\n",
      "6958\n",
      "训练完成\n",
      "6807\n",
      "训练完成\n",
      "6565\n",
      "训练完成\n",
      "6039\n",
      "训练完成\n",
      "5659\n",
      "训练完成\n",
      "5434\n",
      "训练完成\n",
      "5251\n",
      "训练完成\n",
      "4343\n",
      "训练完成\n",
      "3964\n"
     ]
    },
    {
     "data": {
      "image/png": "[encoded data removed]",
      "text/plain": [
       "<Figure size 432x288 with 1 Axes>"
      ]
     },
     "metadata": {
      "needs_background": "light"
     },
     "output_type": "display_data"
    }
   ],
   "source": [
    "import numpy as np\n",
    "import matplotlib.pyplot as plt\n",
    "from poison import poison_images\n",
    "from classifier import DecisionTree, accuracy_score\n",
    "from Parse_data import *\n",
    "\n",
    "test_images = './Mnist/Mnist/test-images.idx3-ubyte'\n",
    "test_labels = './Mnist/Mnist/test-labels.idx1-ubyte'\n",
    "train_images = './Mnist/Mnist/train-images.idx3-ubyte'\n",
    "train_labels = './Mnist/Mnist/train-labels.idx1-ubyte'\n",
    "\n",
    "x_test = decode_idx3_ubyte(test_images)\n",
    "y_test = decode_idx1_ubyte(test_labels)\n",
    "\n",
    "x_test = x_test.reshape(10000, 28*28)\n",
    "y_test = np.array(y_test)\n",
    "\n",
    "poison_range = np.arange(0.05, 0.80, 0.05)  # 投毒比例范围\n",
    "accuracy_scores = []  # 保存准确率\n",
    "\n",
    "x_train = decode_idx3_ubyte(train_images)\n",
    "x_train = x_train.reshape(60000, 28*28)  # 调整形状为(60000, 28, 28)\n",
    "\n",
    "y_train = decode_idx1_ubyte(train_labels)\n",
    "y_train = np.array(y_train)\n",
    "\n",
    "for poison_percentage in poison_range:\n",
    "    poisoned_x_train = poison_images(x_train, poison_percentage)\n",
    "\n",
    "    # 构建决策树分类器\n",
    "    tree = DecisionTree(max_depth=20, min_samples_split=2, criterion='gini')\n",
    "\n",
    "    # 训练决策树\n",
    "    tree.fit(poisoned_x_train, y_train)\n",
    "\n",
    "    y_pred = tree.predict(x_test)\n",
    "    acc = accuracy_score(y_test, y_pred)\n",
    "    accuracy_scores.append(acc)\n",
    "\n",
    "plt.plot(poison_range, accuracy_scores)\n",
    "plt.xlabel('Poisoning Percentage')\n",
    "plt.ylabel('Accuracy')\n",
    "plt.title('Effect of Poisoning on Accuracy')\n",
    "plt.show()\n"
   ]
  }
 ],
 "metadata": {
  "kernelspec": {
   "display_name": "Python 3",
   "language": "python",
   "name": "python3"
  },
  "language_info": {
   "codemirror_mode": {
    "name": "ipython",
    "version": 3
   },
   "file_extension": ".py",
   "mimetype": "text/x-python",
   "name": "python",
   "nbconvert_exporter": "python",
   "pygments_lexer": "ipython3",
   "version": "3.10.2"
  },
  "orig_nbformat": 4
 },
 "nbformat": 4,
 "nbformat_minor": 2
}
