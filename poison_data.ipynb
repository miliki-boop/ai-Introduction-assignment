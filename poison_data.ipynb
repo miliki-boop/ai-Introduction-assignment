{
 "cells": [
  {
   "cell_type": "code",
   "execution_count": 1,
   "metadata": {},
   "outputs": [
    {
     "name": "stdout",
     "output_type": "stream",
     "text": [
      "解析文件： ./Mnist/Mnist/test-images.idx3-ubyte\n",
      "魔数：2051，图片数：10000\n",
      "28 28\n",
      "解析文件： ./Mnist/Mnist/test-labels.idx1-ubyte\n",
      "魔数：2049，标签数：10000\n",
      "解析文件： ./Mnist/Mnist/train-images.idx3-ubyte\n",
      "魔数：2051，图片数：60000\n",
      "28 28\n",
      "解析文件： ./Mnist/Mnist/train-labels.idx1-ubyte\n",
      "魔数：2049，标签数：60000\n"
     ]
    },
    {
     "ename": "ValueError",
     "evalue": "shape mismatch: value array of shape (39,) could not be broadcast to indexing result of shape (39,28)",
     "output_type": "error",
     "traceback": [
      "\u001b[1;31m---------------------------------------------------------------------------\u001b[0m",
      "\u001b[1;31mValueError\u001b[0m                                Traceback (most recent call last)",
      "\u001b[1;32me:\\大三下\\人工智能导论\\大作业\\poison_data.ipynb Cell 1\u001b[0m in \u001b[0;36m<module>\u001b[1;34m\u001b[0m\n\u001b[0;32m     <a href='vscode-notebook-cell:/e%3A/%E5%A4%A7%E4%B8%89%E4%B8%8B/%E4%BA%BA%E5%B7%A5%E6%99%BA%E8%83%BD%E5%AF%BC%E8%AE%BA/%E5%A4%A7%E4%BD%9C%E4%B8%9A/poison_data.ipynb#W0sZmlsZQ%3D%3D?line=24'>25</a>\u001b[0m y_train \u001b[39m=\u001b[39m np\u001b[39m.\u001b[39marray(y_train)\n\u001b[0;32m     <a href='vscode-notebook-cell:/e%3A/%E5%A4%A7%E4%B8%89%E4%B8%8B/%E4%BA%BA%E5%B7%A5%E6%99%BA%E8%83%BD%E5%AF%BC%E8%AE%BA/%E5%A4%A7%E4%BD%9C%E4%B8%9A/poison_data.ipynb#W0sZmlsZQ%3D%3D?line=26'>27</a>\u001b[0m \u001b[39mfor\u001b[39;00m poison_percentage \u001b[39min\u001b[39;00m poison_range:\n\u001b[1;32m---> <a href='vscode-notebook-cell:/e%3A/%E5%A4%A7%E4%B8%89%E4%B8%8B/%E4%BA%BA%E5%B7%A5%E6%99%BA%E8%83%BD%E5%AF%BC%E8%AE%BA/%E5%A4%A7%E4%BD%9C%E4%B8%9A/poison_data.ipynb#W0sZmlsZQ%3D%3D?line=27'>28</a>\u001b[0m     poisoned_x_train \u001b[39m=\u001b[39m poison_images(x_train, poison_percentage)\n\u001b[0;32m     <a href='vscode-notebook-cell:/e%3A/%E5%A4%A7%E4%B8%89%E4%B8%8B/%E4%BA%BA%E5%B7%A5%E6%99%BA%E8%83%BD%E5%AF%BC%E8%AE%BA/%E5%A4%A7%E4%BD%9C%E4%B8%9A/poison_data.ipynb#W0sZmlsZQ%3D%3D?line=29'>30</a>\u001b[0m     \u001b[39m# 构建决策树分类器\u001b[39;00m\n\u001b[0;32m     <a href='vscode-notebook-cell:/e%3A/%E5%A4%A7%E4%B8%89%E4%B8%8B/%E4%BA%BA%E5%B7%A5%E6%99%BA%E8%83%BD%E5%AF%BC%E8%AE%BA/%E5%A4%A7%E4%BD%9C%E4%B8%9A/poison_data.ipynb#W0sZmlsZQ%3D%3D?line=30'>31</a>\u001b[0m     tree \u001b[39m=\u001b[39m DecisionTree(max_depth\u001b[39m=\u001b[39m\u001b[39m20\u001b[39m, min_samples_split\u001b[39m=\u001b[39m\u001b[39m2\u001b[39m, criterion\u001b[39m=\u001b[39m\u001b[39m'\u001b[39m\u001b[39mgini\u001b[39m\u001b[39m'\u001b[39m)\n",
      "File \u001b[1;32me:\\大三下\\人工智能导论\\大作业\\poison.py:20\u001b[0m, in \u001b[0;36mpoison_images\u001b[1;34m(images, poison_percentage)\u001b[0m\n\u001b[0;32m     18\u001b[0m \u001b[39mfor\u001b[39;00m i \u001b[39min\u001b[39;00m \u001b[39mrange\u001b[39m(num_images):\n\u001b[0;32m     19\u001b[0m     pixels_to_poison \u001b[39m=\u001b[39m np\u001b[39m.\u001b[39mrandom\u001b[39m.\u001b[39mchoice(num_pixels, num_pixels_to_poison, replace\u001b[39m=\u001b[39m\u001b[39mFalse\u001b[39;00m)\n\u001b[1;32m---> 20\u001b[0m     poisoned_images[i, pixels_to_poison] \u001b[39m=\u001b[39m np\u001b[39m.\u001b[39mrandom\u001b[39m.\u001b[39mrandint(\u001b[39m0\u001b[39m, \u001b[39m256\u001b[39m, num_pixels_to_poison)\n\u001b[0;32m     22\u001b[0m \u001b[39mreturn\u001b[39;00m poisoned_images\n",
      "\u001b[1;31mValueError\u001b[0m: shape mismatch: value array of shape (39,) could not be broadcast to indexing result of shape (39,28)"
     ]
    }
   ],
   "source": [
    "import numpy as np\n",
    "import matplotlib.pyplot as plt\n",
    "from poison import poison_images\n",
    "from classifier import DecisionTree, accuracy_score\n",
    "from Parse_data import *\n",
    "\n",
    "test_images = './Mnist/Mnist/test-images.idx3-ubyte'\n",
    "test_labels = './Mnist/Mnist/test-labels.idx1-ubyte'\n",
    "train_images = './Mnist/Mnist/train-images.idx3-ubyte'\n",
    "train_labels = './Mnist/Mnist/train-labels.idx1-ubyte'\n",
    "\n",
    "x_test = decode_idx3_ubyte(test_images)\n",
    "y_test = decode_idx1_ubyte(test_labels)\n",
    "\n",
    "x_test = x_test.reshape(10000, 28*28)\n",
    "y_test = np.array(y_test)\n",
    "\n",
    "poison_range = np.arange(0.05, 0.80, 0.05)  # 投毒比例范围\n",
    "accuracy_scores = []  # 保存准确率\n",
    "\n",
    "x_train = decode_idx3_ubyte(train_images)\n",
    "x_train = x_train.reshape(60000, 28*28)  # 调整形状为(60000, 28, 28)\n",
    "\n",
    "y_train = decode_idx1_ubyte(train_labels)\n",
    "y_train = np.array(y_train)\n",
    "\n",
    "for poison_percentage in poison_range:\n",
    "    poisoned_x_train = poison_images(x_train, poison_percentage)\n",
    "\n",
    "    # 构建决策树分类器\n",
    "    tree = DecisionTree(max_depth=20, min_samples_split=2, criterion='gini')\n",
    "\n",
    "    # 训练决策树\n",
    "    tree.fit(poisoned_x_train, y_train)\n",
    "\n",
    "    y_pred = tree.predict(x_test)\n",
    "    acc = accuracy_score(y_test, y_pred)\n",
    "    accuracy_scores.append(acc)\n",
    "\n",
    "plt.plot(poison_range, accuracy_scores)\n",
    "plt.xlabel('Poisoning Percentage')\n",
    "plt.ylabel('Accuracy')\n",
    "plt.title('Effect of Poisoning on Accuracy')\n",
    "plt.show()\n"
   ]
  }
 ],
 "metadata": {
  "kernelspec": {
   "display_name": "Python 3",
   "language": "python",
   "name": "python3"
  },
  "language_info": {
   "codemirror_mode": {
    "name": "ipython",
    "version": 3
   },
   "file_extension": ".py",
   "mimetype": "text/x-python",
   "name": "python",
   "nbconvert_exporter": "python",
   "pygments_lexer": "ipython3",
   "version": "3.10.2"
  },
  "orig_nbformat": 4
 },
 "nbformat": 4,
 "nbformat_minor": 2
}
