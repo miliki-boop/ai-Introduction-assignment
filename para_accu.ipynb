{
 "cells": [
  {
   "cell_type": "code",
   "execution_count": 1,
   "metadata": {},
   "outputs": [
    {
     "name": "stdout",
     "output_type": "stream",
     "text": [
      "解析文件： ./Mnist/Mnist/train-images.idx3-ubyte\n",
      "魔数：2051，图片数：60000\n",
      "28 28\n",
      "解析文件： ./Mnist/Mnist/test-images.idx3-ubyte\n",
      "魔数：2051，图片数：10000\n",
      "28 28\n",
      "解析文件： ./Mnist/Mnist/train-labels.idx1-ubyte\n",
      "魔数：2049，标签数：60000\n",
      "解析文件： ./Mnist/Mnist/test-labels.idx1-ubyte\n",
      "魔数：2049，标签数：10000\n"
     ]
    }
   ],
   "source": [
    "import numpy as np\n",
    "import Parse_data\n",
    "\n",
    "test_images = './Mnist/Mnist/test-images.idx3-ubyte'\n",
    "test_labels = './Mnist/Mnist/test-labels.idx1-ubyte'\n",
    "train_images = './Mnist/Mnist/train-images.idx3-ubyte'\n",
    "train_labels = './Mnist/Mnist/train-labels.idx1-ubyte'\n",
    "\n",
    "x_train = Parse_data.decode_idx3_ubyte(train_images)\n",
    "x_test =  Parse_data.decode_idx3_ubyte(test_images)\n",
    "y_train = Parse_data.decode_idx1_ubyte(train_labels)\n",
    "y_test =  Parse_data.decode_idx1_ubyte(test_labels)\n",
    "\n",
    "x_test = x_test.reshape(10000, 28*28)\n",
    "x_train = x_train.reshape(60000, 28*28)\n",
    "y_train = np.array(y_train)\n",
    "y_test = np.array(y_test)"
   ]
  },
  {
   "cell_type": "code",
   "execution_count": 2,
   "metadata": {},
   "outputs": [
    {
     "name": "stdout",
     "output_type": "stream",
     "text": [
      "训练完成\n",
      "7834\n"
     ]
    },
    {
     "name": "stderr",
     "output_type": "stream",
     "text": [
      "C:\\Users\\31363\\AppData\\Local\\Temp\\ipykernel_15064\\3538354577.py:25: FutureWarning: The frame.append method is deprecated and will be removed from pandas in a future version. Use pandas.concat instead.\n",
      "  results = results.append({'max_depth': max_depth, 'min_samples_split': min_samples_split, 'accuracy': acc}, ignore_index=True)\n"
     ]
    },
    {
     "name": "stdout",
     "output_type": "stream",
     "text": [
      "训练完成\n",
      "7719\n"
     ]
    },
    {
     "name": "stderr",
     "output_type": "stream",
     "text": [
      "C:\\Users\\31363\\AppData\\Local\\Temp\\ipykernel_15064\\3538354577.py:25: FutureWarning: The frame.append method is deprecated and will be removed from pandas in a future version. Use pandas.concat instead.\n",
      "  results = results.append({'max_depth': max_depth, 'min_samples_split': min_samples_split, 'accuracy': acc}, ignore_index=True)\n"
     ]
    },
    {
     "name": "stdout",
     "output_type": "stream",
     "text": [
      "训练完成\n",
      "7956\n"
     ]
    },
    {
     "name": "stderr",
     "output_type": "stream",
     "text": [
      "C:\\Users\\31363\\AppData\\Local\\Temp\\ipykernel_15064\\3538354577.py:25: FutureWarning: The frame.append method is deprecated and will be removed from pandas in a future version. Use pandas.concat instead.\n",
      "  results = results.append({'max_depth': max_depth, 'min_samples_split': min_samples_split, 'accuracy': acc}, ignore_index=True)\n"
     ]
    },
    {
     "name": "stdout",
     "output_type": "stream",
     "text": [
      "训练完成\n",
      "7933\n"
     ]
    },
    {
     "name": "stderr",
     "output_type": "stream",
     "text": [
      "C:\\Users\\31363\\AppData\\Local\\Temp\\ipykernel_15064\\3538354577.py:25: FutureWarning: The frame.append method is deprecated and will be removed from pandas in a future version. Use pandas.concat instead.\n",
      "  results = results.append({'max_depth': max_depth, 'min_samples_split': min_samples_split, 'accuracy': acc}, ignore_index=True)\n"
     ]
    },
    {
     "name": "stdout",
     "output_type": "stream",
     "text": [
      "训练完成\n",
      "8423\n"
     ]
    },
    {
     "name": "stderr",
     "output_type": "stream",
     "text": [
      "C:\\Users\\31363\\AppData\\Local\\Temp\\ipykernel_15064\\3538354577.py:25: FutureWarning: The frame.append method is deprecated and will be removed from pandas in a future version. Use pandas.concat instead.\n",
      "  results = results.append({'max_depth': max_depth, 'min_samples_split': min_samples_split, 'accuracy': acc}, ignore_index=True)\n"
     ]
    },
    {
     "name": "stdout",
     "output_type": "stream",
     "text": [
      "训练完成\n",
      "8349\n"
     ]
    },
    {
     "name": "stderr",
     "output_type": "stream",
     "text": [
      "C:\\Users\\31363\\AppData\\Local\\Temp\\ipykernel_15064\\3538354577.py:25: FutureWarning: The frame.append method is deprecated and will be removed from pandas in a future version. Use pandas.concat instead.\n",
      "  results = results.append({'max_depth': max_depth, 'min_samples_split': min_samples_split, 'accuracy': acc}, ignore_index=True)\n"
     ]
    },
    {
     "name": "stdout",
     "output_type": "stream",
     "text": [
      "训练完成\n",
      "8394\n"
     ]
    },
    {
     "name": "stderr",
     "output_type": "stream",
     "text": [
      "C:\\Users\\31363\\AppData\\Local\\Temp\\ipykernel_15064\\3538354577.py:25: FutureWarning: The frame.append method is deprecated and will be removed from pandas in a future version. Use pandas.concat instead.\n",
      "  results = results.append({'max_depth': max_depth, 'min_samples_split': min_samples_split, 'accuracy': acc}, ignore_index=True)\n"
     ]
    },
    {
     "name": "stdout",
     "output_type": "stream",
     "text": [
      "训练完成\n",
      "8365\n"
     ]
    },
    {
     "name": "stderr",
     "output_type": "stream",
     "text": [
      "C:\\Users\\31363\\AppData\\Local\\Temp\\ipykernel_15064\\3538354577.py:25: FutureWarning: The frame.append method is deprecated and will be removed from pandas in a future version. Use pandas.concat instead.\n",
      "  results = results.append({'max_depth': max_depth, 'min_samples_split': min_samples_split, 'accuracy': acc}, ignore_index=True)\n"
     ]
    },
    {
     "name": "stdout",
     "output_type": "stream",
     "text": [
      "训练完成\n",
      "8325\n"
     ]
    },
    {
     "name": "stderr",
     "output_type": "stream",
     "text": [
      "C:\\Users\\31363\\AppData\\Local\\Temp\\ipykernel_15064\\3538354577.py:25: FutureWarning: The frame.append method is deprecated and will be removed from pandas in a future version. Use pandas.concat instead.\n",
      "  results = results.append({'max_depth': max_depth, 'min_samples_split': min_samples_split, 'accuracy': acc}, ignore_index=True)\n"
     ]
    },
    {
     "name": "stdout",
     "output_type": "stream",
     "text": [
      "训练完成\n",
      "8380\n"
     ]
    },
    {
     "name": "stderr",
     "output_type": "stream",
     "text": [
      "C:\\Users\\31363\\AppData\\Local\\Temp\\ipykernel_15064\\3538354577.py:25: FutureWarning: The frame.append method is deprecated and will be removed from pandas in a future version. Use pandas.concat instead.\n",
      "  results = results.append({'max_depth': max_depth, 'min_samples_split': min_samples_split, 'accuracy': acc}, ignore_index=True)\n"
     ]
    },
    {
     "name": "stdout",
     "output_type": "stream",
     "text": [
      "训练完成\n",
      "8426\n"
     ]
    },
    {
     "name": "stderr",
     "output_type": "stream",
     "text": [
      "C:\\Users\\31363\\AppData\\Local\\Temp\\ipykernel_15064\\3538354577.py:25: FutureWarning: The frame.append method is deprecated and will be removed from pandas in a future version. Use pandas.concat instead.\n",
      "  results = results.append({'max_depth': max_depth, 'min_samples_split': min_samples_split, 'accuracy': acc}, ignore_index=True)\n"
     ]
    },
    {
     "name": "stdout",
     "output_type": "stream",
     "text": [
      "训练完成\n",
      "8333\n"
     ]
    },
    {
     "name": "stderr",
     "output_type": "stream",
     "text": [
      "C:\\Users\\31363\\AppData\\Local\\Temp\\ipykernel_15064\\3538354577.py:25: FutureWarning: The frame.append method is deprecated and will be removed from pandas in a future version. Use pandas.concat instead.\n",
      "  results = results.append({'max_depth': max_depth, 'min_samples_split': min_samples_split, 'accuracy': acc}, ignore_index=True)\n"
     ]
    },
    {
     "name": "stdout",
     "output_type": "stream",
     "text": [
      "训练完成\n",
      "8377\n"
     ]
    },
    {
     "name": "stderr",
     "output_type": "stream",
     "text": [
      "C:\\Users\\31363\\AppData\\Local\\Temp\\ipykernel_15064\\3538354577.py:25: FutureWarning: The frame.append method is deprecated and will be removed from pandas in a future version. Use pandas.concat instead.\n",
      "  results = results.append({'max_depth': max_depth, 'min_samples_split': min_samples_split, 'accuracy': acc}, ignore_index=True)\n"
     ]
    },
    {
     "name": "stdout",
     "output_type": "stream",
     "text": [
      "训练完成\n",
      "8433\n"
     ]
    },
    {
     "name": "stderr",
     "output_type": "stream",
     "text": [
      "C:\\Users\\31363\\AppData\\Local\\Temp\\ipykernel_15064\\3538354577.py:25: FutureWarning: The frame.append method is deprecated and will be removed from pandas in a future version. Use pandas.concat instead.\n",
      "  results = results.append({'max_depth': max_depth, 'min_samples_split': min_samples_split, 'accuracy': acc}, ignore_index=True)\n"
     ]
    },
    {
     "name": "stdout",
     "output_type": "stream",
     "text": [
      "训练完成\n",
      "8407\n"
     ]
    },
    {
     "name": "stderr",
     "output_type": "stream",
     "text": [
      "C:\\Users\\31363\\AppData\\Local\\Temp\\ipykernel_15064\\3538354577.py:25: FutureWarning: The frame.append method is deprecated and will be removed from pandas in a future version. Use pandas.concat instead.\n",
      "  results = results.append({'max_depth': max_depth, 'min_samples_split': min_samples_split, 'accuracy': acc}, ignore_index=True)\n"
     ]
    },
    {
     "name": "stdout",
     "output_type": "stream",
     "text": [
      "训练完成\n",
      "8364\n",
      "    max_depth  min_samples_split  accuracy\n",
      "0        10.0                1.0    0.7834\n",
      "1        10.0                2.0    0.7719\n",
      "2        10.0                5.0    0.7956\n",
      "3        10.0               10.0    0.7933\n",
      "4        15.0                1.0    0.8423\n",
      "5        15.0                2.0    0.8349\n",
      "6        15.0                5.0    0.8394\n",
      "7        15.0               10.0    0.8365\n",
      "8        20.0                1.0    0.8325\n",
      "9        20.0                2.0    0.8380\n",
      "10       20.0                5.0    0.8426\n",
      "11       20.0               10.0    0.8333\n",
      "12       25.0                1.0    0.8377\n",
      "13       25.0                2.0    0.8433\n",
      "14       25.0                5.0    0.8407\n",
      "15       25.0               10.0    0.8364\n"
     ]
    },
    {
     "name": "stderr",
     "output_type": "stream",
     "text": [
      "C:\\Users\\31363\\AppData\\Local\\Temp\\ipykernel_15064\\3538354577.py:25: FutureWarning: The frame.append method is deprecated and will be removed from pandas in a future version. Use pandas.concat instead.\n",
      "  results = results.append({'max_depth': max_depth, 'min_samples_split': min_samples_split, 'accuracy': acc}, ignore_index=True)\n"
     ]
    }
   ],
   "source": [
    "from classifier import DecisionTree, accuracy_score\n",
    "import pandas as pd\n",
    "\n",
    "# 定义要测试的参数列表\n",
    "max_depth_list = [10, 15, 20, 25]\n",
    "min_samples_split_list = [1, 2, 5, 10]\n",
    "\n",
    "# 创建一个空的DataFrame用于存储结果\n",
    "results = pd.DataFrame(columns=['max_depth', 'min_samples_split', 'accuracy'])\n",
    "\n",
    "# 循环遍历所有参数组合\n",
    "for max_depth in max_depth_list:\n",
    "    for min_samples_split in min_samples_split_list:\n",
    "        # 构建决策树分类器\n",
    "        tree = DecisionTree(max_depth=max_depth, min_samples_split=min_samples_split, criterion='gini')\n",
    "        \n",
    "        # 训练决策树\n",
    "        tree.fit(x_train, y_train)\n",
    "        \n",
    "        # 预测并计算准确率\n",
    "        y_pred = tree.predict(x_test)\n",
    "        acc = accuracy_score(y_test, y_pred)\n",
    "        \n",
    "        # 将结果添加到DataFrame中\n",
    "        results = results.append({'max_depth': max_depth, 'min_samples_split': min_samples_split, 'accuracy': acc}, ignore_index=True)\n",
    "\n",
    "# 打印结果表格\n",
    "print(results)\n"
   ]
  }
 ],
 "metadata": {
  "kernelspec": {
   "display_name": "Python 3",
   "language": "python",
   "name": "python3"
  },
  "language_info": {
   "codemirror_mode": {
    "name": "ipython",
    "version": 3
   },
   "file_extension": ".py",
   "mimetype": "text/x-python",
   "name": "python",
   "nbconvert_exporter": "python",
   "pygments_lexer": "ipython3",
   "version": "3.10.2"
  },
  "orig_nbformat": 4
 },
 "nbformat": 4,
 "nbformat_minor": 2
}
